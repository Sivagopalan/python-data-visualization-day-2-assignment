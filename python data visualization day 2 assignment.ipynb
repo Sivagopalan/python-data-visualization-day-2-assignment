{
 "cells": [
  {
   "cell_type": "code",
   "execution_count": 1,
   "id": "bf1ceebc",
   "metadata": {},
   "outputs": [],
   "source": [
    "import numpy as np\n",
    "import pandas as pd\n",
    "import matplotlib.pyplot as plt\n",
    "%matplotlib inline\n",
    "import seaborn as snb\n",
    "from numpy.random import randn, randint, uniform, sample\n"
   ]
  },
  {
   "cell_type": "code",
   "execution_count": 2,
   "id": "501f0f89",
   "metadata": {},
   "outputs": [
    {
     "data": {
      "text/html": [
       "<div>\n",
       "<style scoped>\n",
       "    .dataframe tbody tr th:only-of-type {\n",
       "        vertical-align: middle;\n",
       "    }\n",
       "\n",
       "    .dataframe tbody tr th {\n",
       "        vertical-align: top;\n",
       "    }\n",
       "\n",
       "    .dataframe thead th {\n",
       "        text-align: right;\n",
       "    }\n",
       "</style>\n",
       "<table border=\"1\" class=\"dataframe\">\n",
       "  <thead>\n",
       "    <tr style=\"text-align: right;\">\n",
       "      <th></th>\n",
       "      <th>a</th>\n",
       "      <th>b</th>\n",
       "      <th>c</th>\n",
       "      <th>d</th>\n",
       "    </tr>\n",
       "  </thead>\n",
       "  <tbody>\n",
       "    <tr>\n",
       "      <th>0</th>\n",
       "      <td>0.863837</td>\n",
       "      <td>-0.488496</td>\n",
       "      <td>0.442820</td>\n",
       "      <td>-0.636316</td>\n",
       "    </tr>\n",
       "    <tr>\n",
       "      <th>1</th>\n",
       "      <td>0.033682</td>\n",
       "      <td>-0.745506</td>\n",
       "      <td>-0.359707</td>\n",
       "      <td>0.577758</td>\n",
       "    </tr>\n",
       "    <tr>\n",
       "      <th>2</th>\n",
       "      <td>-0.143345</td>\n",
       "      <td>0.988351</td>\n",
       "      <td>0.365602</td>\n",
       "      <td>-0.507928</td>\n",
       "    </tr>\n",
       "    <tr>\n",
       "      <th>3</th>\n",
       "      <td>0.772590</td>\n",
       "      <td>-0.633694</td>\n",
       "      <td>-0.122385</td>\n",
       "      <td>-0.022486</td>\n",
       "    </tr>\n",
       "    <tr>\n",
       "      <th>4</th>\n",
       "      <td>-0.051379</td>\n",
       "      <td>-0.499072</td>\n",
       "      <td>0.457831</td>\n",
       "      <td>-0.200052</td>\n",
       "    </tr>\n",
       "    <tr>\n",
       "      <th>5</th>\n",
       "      <td>-1.451689</td>\n",
       "      <td>-0.520050</td>\n",
       "      <td>-0.429650</td>\n",
       "      <td>-0.833795</td>\n",
       "    </tr>\n",
       "    <tr>\n",
       "      <th>6</th>\n",
       "      <td>0.399805</td>\n",
       "      <td>0.585397</td>\n",
       "      <td>0.424014</td>\n",
       "      <td>0.703002</td>\n",
       "    </tr>\n",
       "    <tr>\n",
       "      <th>7</th>\n",
       "      <td>0.480324</td>\n",
       "      <td>0.357461</td>\n",
       "      <td>0.643987</td>\n",
       "      <td>-0.324825</td>\n",
       "    </tr>\n",
       "    <tr>\n",
       "      <th>8</th>\n",
       "      <td>1.189855</td>\n",
       "      <td>0.833460</td>\n",
       "      <td>0.470214</td>\n",
       "      <td>-0.667650</td>\n",
       "    </tr>\n",
       "    <tr>\n",
       "      <th>9</th>\n",
       "      <td>-0.289104</td>\n",
       "      <td>1.190507</td>\n",
       "      <td>0.037870</td>\n",
       "      <td>-1.096641</td>\n",
       "    </tr>\n",
       "  </tbody>\n",
       "</table>\n",
       "</div>"
      ],
      "text/plain": [
       "          a         b         c         d\n",
       "0  0.863837 -0.488496  0.442820 -0.636316\n",
       "1  0.033682 -0.745506 -0.359707  0.577758\n",
       "2 -0.143345  0.988351  0.365602 -0.507928\n",
       "3  0.772590 -0.633694 -0.122385 -0.022486\n",
       "4 -0.051379 -0.499072  0.457831 -0.200052\n",
       "5 -1.451689 -0.520050 -0.429650 -0.833795\n",
       "6  0.399805  0.585397  0.424014  0.703002\n",
       "7  0.480324  0.357461  0.643987 -0.324825\n",
       "8  1.189855  0.833460  0.470214 -0.667650\n",
       "9 -0.289104  1.190507  0.037870 -1.096641"
      ]
     },
     "execution_count": 2,
     "metadata": {},
     "output_type": "execute_result"
    }
   ],
   "source": [
    "#question:  Create a dataframe with 10 rows on random numbers and 4 columns, (columns labelled as a,b,c,d) and plot a bar chart.\n",
    "df=pd.DataFrame(randn(10,4),columns=['a','b','c','d'])\n",
    "df"
   ]
  },
  {
   "cell_type": "code",
   "execution_count": 4,
   "id": "839e0858",
   "metadata": {},
   "outputs": [
    {
     "data": {
      "text/plain": [
       "<AxesSubplot:>"
      ]
     },
     "execution_count": 4,
     "metadata": {},
     "output_type": "execute_result"
    },
    {
     "data": {
      "image/png": "[encoded data removed]",
      "text/plain": [
       "<Figure size 720x864 with 1 Axes>"
      ]
     },
     "metadata": {
      "needs_background": "light"
     },
     "output_type": "display_data"
    }
   ],
   "source": [
    "df.plot(kind=\"bar\", figsize=(10,12))\n"
   ]
  },
  {
   "cell_type": "code",
   "execution_count": null,
   "id": "0d7f3161",
   "metadata": {},
   "outputs": [],
   "source": []
  }
 ],
 "metadata": {
  "kernelspec": {
   "display_name": "Python 3",
   "language": "python",
   "name": "python3"
  },
  "language_info": {
   "codemirror_mode": {
    "name": "ipython",
    "version": 3
   },
   "file_extension": ".py",
   "mimetype": "text/x-python",
   "name": "python",
   "nbconvert_exporter": "python",
   "pygments_lexer": "ipython3",
   "version": "3.8.8"
  }
 },
 "nbformat": 4,
 "nbformat_minor": 5
}
